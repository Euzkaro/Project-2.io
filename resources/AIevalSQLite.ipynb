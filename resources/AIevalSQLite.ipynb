{
 "cells": [
  {
   "cell_type": "code",
   "execution_count": 27,
   "metadata": {
    "slideshow": {
     "slide_type": "subslide"
    }
   },
   "outputs": [],
   "source": [
    "%matplotlib inline\n",
    "import matplotlib.pyplot as plt\n",
    "import pandas as pd\n",
    "import numpy as np\n",
    "import os\n",
    "from sklearn.metrics import confusion_matrix"
   ]
  },
  {
   "cell_type": "markdown",
   "metadata": {},
   "source": [
    "Predict if a user will be an influencer on a tweet (> 100 retweets) based on volume in the following categories\n",
    "\n",
    "USER PREDICTION ELEMENTS\n",
    "\n",
    "FIELD                             DESCRIPTION\n",
    "tweet_user_statuses_count:        count - user tweets\n",
    "tweet_user_favourites_count:      count - user is a favorite of others\n",
    "tweet_user_followers_count:       count - user is followed by others\n",
    "tweet_user_friends_count:         count - user friends\n",
    "tweet_user_listed_count:          count - user added to other's interest list\n"
   ]
  },
  {
   "cell_type": "code",
   "execution_count": 2,
   "metadata": {},
   "outputs": [],
   "source": [
    "# Python SQL toolkit and Object Relational Mapper\n",
    "import sqlalchemy\n",
    "from sqlalchemy.ext.automap import automap_base\n",
    "from sqlalchemy.orm import Session\n",
    "from sqlalchemy import create_engine"
   ]
  },
  {
   "cell_type": "code",
   "execution_count": 3,
   "metadata": {},
   "outputs": [],
   "source": [
    "# import necessary libraries\n",
    "import os\n",
    "from flask import Flask, render_template, jsonify, request, redirect\n",
    "\n",
    "from pprint import pprint\n",
    "\n",
    "#################################################\n",
    "# Flask Setup\n",
    "#################################################\n",
    "app = Flask(__name__)\n",
    "\n",
    "#################################################\n",
    "# Database Setup\n",
    "#################################################\n",
    "\n",
    "from flask_sqlalchemy import SQLAlchemy\n",
    "from sqlalchemy.sql.expression import func\n",
    "\n",
    "#Probably don't need these from SQLAlchemy: asc, desc, between, distinct, func, null, nullsfirst, nullslast, or_, and_, not_\n",
    "\n",
    "db_path_flask_app = \"sqlite:///../python/data/twitter_trends.db\"\n",
    "app.config['SQLALCHEMY_DATABASE_URI'] = os.environ.get('DATABASE_URL', '') or db_path_flask_app\n",
    "# app.config['SQLALCHEMY_DATABASE_URI'] = db_path_flask_app"
   ]
  },
  {
   "cell_type": "code",
   "execution_count": 4,
   "metadata": {},
   "outputs": [
    {
     "name": "stderr",
     "output_type": "stream",
     "text": [
      "C:\\Users\\agarb\\Anaconda3\\lib\\site-packages\\flask_sqlalchemy\\__init__.py:794: FSADeprecationWarning: SQLALCHEMY_TRACK_MODIFICATIONS adds significant overhead and will be disabled by default in the future.  Set it to True or False to suppress this warning.\n",
      "  'SQLALCHEMY_TRACK_MODIFICATIONS adds significant overhead and '\n"
     ]
    }
   ],
   "source": [
    "# Flask-SQLAlchemy database\n",
    "db = SQLAlchemy(app)"
   ]
  },
  {
   "cell_type": "code",
   "execution_count": 5,
   "metadata": {},
   "outputs": [],
   "source": [
    "class Tweet(db.Model):    \n",
    "    __tablename__ = 'tweets'    \n",
    "    # Defining the columns for the table 'tweets',    \n",
    "    # which will hold tweets associated the search terms in the 'trends' table,    \n",
    "    # which are referred to in that table as \"twitter_tweet_name\" \n",
    "    \n",
    "    id = db.Column(db.Integer, primary_key=True)    \n",
    "    updated_at = db.Column( db.DateTime )    \n",
    "    tweet_id = db.Column( db.Integer )    \n",
    "    tweet_id_str = db.Column( db.String(50), unique=True, nullable=False ) \n",
    "    \n",
    "    # tweet_search_term = db.Column(db.Integer, db.ForeignKey('trends.twitter_tweet_name') )    \n",
    "    tweet_search_term = db.Column(db.String(250))    \n",
    "    tweet_created_at = db.Column(db.String(100))    \n",
    "    tweet_is_a_quote_flag = db.Column( db.Boolean )    \n",
    "    tweet_is_a_retweet_flag = db.Column( db.Boolean )    \n",
    "    tweet_entities_hashtags_count = db.Column( db.Integer )    \n",
    "    tweet_entities_user_mentions_count = db.Column( db.Integer )    \n",
    "    tweet_favorite_counts = db.Column( db.Integer )    \n",
    "    tweet_retweet_counts = db.Column( db.Integer )    \n",
    "    tweet_lang = db.Column( db.String(10) )    \n",
    "    tweet_source = db.Column(db.String(250))    \n",
    "    tweet_text = db.Column(db.String(250))    \n",
    "    tweet_user_id = db.Column( db.Integer )    \n",
    "    tweet_user_id_str = db.Column( db.String(50) )    \n",
    "    tweet_user_created_at = db.Column(db.String(100))    \n",
    "    tweet_user_lang = db.Column( db.String(10) )    \n",
    "    tweet_user_name = db.Column( db.String(100) )    \n",
    "    tweet_user_screen_name = db.Column( db.String(100) )    \n",
    "    tweet_user_description = db.Column( db.String(250) )    \n",
    "    tweet_user_statuses_count = db.Column( db.Integer )    \n",
    "    tweet_user_favourites_count = db.Column( db.Integer )    \n",
    "    tweet_user_followers_count = db.Column( db.Integer )    \n",
    "    tweet_user_friends_count = db.Column( db.Integer )    \n",
    "    tweet_user_listed_count = db.Column( db.Integer )    \n",
    "    \n",
    "    def __repr__(self):        \n",
    "        return f\"<Tweet {self.tweet_search_term}: {self.tweet_id} [updated_at: {self.updated_at}>\""
   ]
  },
  {
   "cell_type": "code",
   "execution_count": 6,
   "metadata": {},
   "outputs": [],
   "source": [
    "# Database schema for Twitter 'locations' table\n",
    "class Location(db.Model):\n",
    "    __tablename__ = 'locations'\n",
    "    \n",
    "    # Defining the columns for the table 'locations',\n",
    "    # which will hold all of the locations in the U.S. for which\n",
    "    # top trends data is available, as well as location specific\n",
    "    # info like latitude/longitude\n",
    "    id = db.Column(db.Integer, primary_key=True)\n",
    "    updated_at = db.Column( db.DateTime )\n",
    "    woeid = db.Column(db.Integer, unique=True, nullable=False)\n",
    "    twitter_country = db.Column(db.String(100))\n",
    "    tritter_country_code = db.Column(db.String(10))\n",
    "    twitter_name = db.Column(db.String(250))\n",
    "    twitter_parentid = db.Column(db.Integer)\n",
    "    twitter_type = db.Column(db.String(50))\n",
    "    country_name = db.Column(db.String(250))\n",
    "    country_name_only = db.Column(db.String(250))\n",
    "    country_woeid = db.Column(db.Integer)\n",
    "    county_name = db.Column(db.String(250))\n",
    "    county_name_only = db.Column(db.String(250))\n",
    "    county_woeid = db.Column(db.Integer)\n",
    "    latitude = db.Column(db.Float)\n",
    "    longitude = db.Column(db.Float)\n",
    "    name_full = db.Column(db.String(250))\n",
    "    name_only = db.Column(db.String(250))\n",
    "    name_woe = db.Column(db.String(250))\n",
    "    place_type = db.Column(db.String(250))\n",
    "    state_name = db.Column(db.String(250))\n",
    "    state_name_only = db.Column(db.String(250))\n",
    "    state_woeid = db.Column(db.Integer)\n",
    "    timezone = db.Column(db.String(250))\n",
    "\n",
    "    my_trends = db.relationship('Trend', backref=db.backref('my_location', lazy=True))\n",
    "    \n",
    "    def __repr__(self):\n",
    "        return f\"<Location {self.name_full} [updated_at: {self.updated_at}>\"\n",
    "\n",
    "# Database schema for Twitter 'trends' table\n",
    "class Trend(db.Model):\n",
    "    __tablename__ = 'trends'\n",
    "    \n",
    "    # Defining the columns for the table 'trends',\n",
    "    # which will hold all of the top trends associated with\n",
    "    # locations in the 'locations' table\n",
    "    id = db.Column(db.Integer, primary_key=True)\n",
    "    updated_at = db.Column( db.DateTime )\n",
    "    woeid = db.Column(db.Integer, db.ForeignKey('locations.woeid') )\n",
    "    twitter_as_of = db.Column(db.String(100))\n",
    "    twitter_created_at = db.Column(db.String(100))\n",
    "    twitter_name = db.Column(db.String(250))\n",
    "    twitter_tweet_name = db.Column(db.String(250))\n",
    "    twitter_tweet_promoted_content = db.Column(db.String(250))\n",
    "    twitter_tweet_query = db.Column(db.String(250))\n",
    "    twitter_tweet_url = db.Column(db.String(250))\n",
    "    twitter_tweet_volume = db.Column(db.Float)\n",
    "\n",
    "    # With more investigation, determined this is an\n",
    "    # incorrect usage of relationship method below - removing it\n",
    "    # locations = db.relationship('Location', backref=db.backref('trends', lazy=True))\n",
    "     \n",
    "    def __repr__(self):\n",
    "        return f\"<Trend {self.my_location.name_full}: {self.twitter_tweet_name} [updated_at: {self.updated_at}>\"\n"
   ]
  },
  {
   "cell_type": "code",
   "execution_count": 7,
   "metadata": {},
   "outputs": [],
   "source": [
    "# In the app code for this route, there is no need to do anything special\n",
    "a_tweet = \"#OpeningDay\"\n",
    "\n",
    "# Return a list of all locations that have the specified tweet in its top trends\n",
    "# and then sort the results by tweet volume in descending order\n",
    "results = db.session.query(Trend, Location).join(Location) \\\n",
    "                    .filter(Trend.twitter_tweet_name == a_tweet ) \\\n",
    "                    .order_by( Trend.twitter_tweet_volume.desc() ).all()\n",
    "\n",
    "loc_list = []\n",
    "for r in results:\n",
    "    #print(f\"Trend Information for {r.Trend.woeid} {r.Location.name_full}: {r.Trend.twitter_tweet_name} {r.Trend.twitter_tweet_volume}\")\n",
    "    loc_info = {\n",
    "        'woeid': r.Location.woeid,\n",
    "        'latitude': r.Location.latitude,\n",
    "        'longitude': r.Location.longitude,\n",
    "        'name_full': r.Location.name_full,\n",
    "        'name_only': r.Location.name_only,\n",
    "        'name_woe': r.Location.name_woe,\n",
    "        'county_name': r.Location.county_name,\n",
    "        'county_name_only': r.Location.county_name_only,\n",
    "        'county_woeid': r.Location.county_woeid,\n",
    "        'state_name': r.Location.state_name,\n",
    "        'state_name_only': r.Location.state_name_only,\n",
    "        'state_woeid': r.Location.state_woeid,\n",
    "        'country_name': r.Location.country_name,\n",
    "        'country_name_only': r.Location.country_name_only,\n",
    "        'country_woeid': r.Location.country_woeid,\n",
    "        'place_type': r.Location.place_type,\n",
    "        'timezone': r.Location.timezone,\n",
    "        'twitter_type': r.Location.twitter_type,\n",
    "        'twitter_country': r.Location.twitter_country,\n",
    "        'tritter_country_code': r.Location.tritter_country_code,\n",
    "        'twitter_parentid': r.Location.twitter_parentid,\n",
    "\n",
    "        'twitter_as_of': r.Trend.twitter_as_of,\n",
    "        'twitter_created_at': r.Trend.twitter_created_at,\n",
    "        'twitter_name': r.Trend.twitter_name,\n",
    "        'twitter_tweet_name': r.Trend.twitter_tweet_name,\n",
    "        'twitter_tweet_promoted_content': r.Trend.twitter_tweet_promoted_content,\n",
    "        'twitter_tweet_query': r.Trend.twitter_tweet_query,\n",
    "        'twitter_tweet_url': r.Trend.twitter_tweet_url,\n",
    "        'twitter_tweet_volume': r.Trend.twitter_tweet_volume\n",
    "    }\n",
    "\n",
    "    loc_list.append(loc_info)"
   ]
  },
  {
   "cell_type": "code",
   "execution_count": 21,
   "metadata": {},
   "outputs": [],
   "source": [
    "results = db.session.query(Tweet.tweet_user_id_str, \\\n",
    "                        func.max(Tweet.id).label(\"id\"), \\\n",
    "                        func.max(Tweet.tweet_user_id_str).label(\"tweet_user_id_str\"), \\\n",
    "                        func.max(Tweet.tweet_user_statuses_count).label(\"tweet_user_statuses_count\"), \\\n",
    "                        func.max(Tweet.tweet_user_favourites_count).label(\"tweet_user_favourites_count\"), \\\n",
    "                        func.max(Tweet.tweet_user_followers_count).label(\"tweet_user_followers_count\"), \\\n",
    "                        func.max(Tweet.tweet_user_friends_count).label(\"tweet_user_friends_count\"), \\\n",
    "                        func.max(Tweet.tweet_user_listed_count).label(\"tweet_user_listed_count\"), \\\n",
    "                        func.max(Tweet.tweet_retweet_counts).label(\"tweet_retweet_counts\")) \\\n",
    "                        .group_by(Tweet.tweet_user_id_str) \\\n",
    "                        .all()        \n",
    "\n",
    "tweet_list = []    \n",
    "\n",
    "for r in results:        \n",
    "    tweet_info = { 'id': r.id,            \n",
    "                  'tweet_user_id_str' : r.tweet_user_id_str ,                                           \n",
    "                  'tweet_user_statuses_count': r.tweet_user_statuses_count ,            \n",
    "                  'tweet_user_favourites_count' : r.tweet_user_favourites_count ,            \n",
    "                  'tweet_user_followers_count' : r.tweet_user_followers_count ,            \n",
    "                  'tweet_user_friends_count' : r.tweet_user_friends_count ,            \n",
    "                  'tweet_user_listed_count' : r.tweet_user_listed_count,    \n",
    "                  'tweet_retweet_counts' : r.tweet_retweet_counts}        \n",
    "    tweet_list.append(tweet_info)"
   ]
  },
  {
   "cell_type": "code",
   "execution_count": 22,
   "metadata": {},
   "outputs": [
    {
     "name": "stdout",
     "output_type": "stream",
     "text": [
      "32049\n"
     ]
    }
   ],
   "source": [
    "pprint(len(tweet_list))"
   ]
  },
  {
   "cell_type": "code",
   "execution_count": 23,
   "metadata": {
    "slideshow": {
     "slide_type": "fragment"
    }
   },
   "outputs": [
    {
     "data": {
      "text/html": [
       "<div>\n",
       "<style scoped>\n",
       "    .dataframe tbody tr th:only-of-type {\n",
       "        vertical-align: middle;\n",
       "    }\n",
       "\n",
       "    .dataframe tbody tr th {\n",
       "        vertical-align: top;\n",
       "    }\n",
       "\n",
       "    .dataframe thead th {\n",
       "        text-align: right;\n",
       "    }\n",
       "</style>\n",
       "<table border=\"1\" class=\"dataframe\">\n",
       "  <thead>\n",
       "    <tr style=\"text-align: right;\">\n",
       "      <th></th>\n",
       "      <th>id</th>\n",
       "      <th>tweet_retweet_counts</th>\n",
       "      <th>tweet_user_favourites_count</th>\n",
       "      <th>tweet_user_followers_count</th>\n",
       "      <th>tweet_user_friends_count</th>\n",
       "      <th>tweet_user_id_str</th>\n",
       "      <th>tweet_user_listed_count</th>\n",
       "      <th>tweet_user_statuses_count</th>\n",
       "    </tr>\n",
       "  </thead>\n",
       "  <tbody>\n",
       "    <tr>\n",
       "      <th>0</th>\n",
       "      <td>26060</td>\n",
       "      <td>91</td>\n",
       "      <td>773</td>\n",
       "      <td>250</td>\n",
       "      <td>196</td>\n",
       "      <td>1000070228263493633</td>\n",
       "      <td>1</td>\n",
       "      <td>870</td>\n",
       "    </tr>\n",
       "    <tr>\n",
       "      <th>1</th>\n",
       "      <td>20218</td>\n",
       "      <td>31</td>\n",
       "      <td>5091</td>\n",
       "      <td>294</td>\n",
       "      <td>333</td>\n",
       "      <td>1000075196827566080</td>\n",
       "      <td>0</td>\n",
       "      <td>3260</td>\n",
       "    </tr>\n",
       "    <tr>\n",
       "      <th>2</th>\n",
       "      <td>34658</td>\n",
       "      <td>51</td>\n",
       "      <td>2154</td>\n",
       "      <td>65</td>\n",
       "      <td>128</td>\n",
       "      <td>1000088820652675072</td>\n",
       "      <td>0</td>\n",
       "      <td>279</td>\n",
       "    </tr>\n",
       "    <tr>\n",
       "      <th>3</th>\n",
       "      <td>33000</td>\n",
       "      <td>0</td>\n",
       "      <td>19169</td>\n",
       "      <td>532</td>\n",
       "      <td>286</td>\n",
       "      <td>1000090083821785088</td>\n",
       "      <td>2</td>\n",
       "      <td>3491</td>\n",
       "    </tr>\n",
       "    <tr>\n",
       "      <th>4</th>\n",
       "      <td>24629</td>\n",
       "      <td>1389</td>\n",
       "      <td>1084</td>\n",
       "      <td>41</td>\n",
       "      <td>143</td>\n",
       "      <td>1000128848455847936</td>\n",
       "      <td>0</td>\n",
       "      <td>3937</td>\n",
       "    </tr>\n",
       "  </tbody>\n",
       "</table>\n",
       "</div>"
      ],
      "text/plain": [
       "      id  tweet_retweet_counts  tweet_user_favourites_count  \\\n",
       "0  26060                    91                          773   \n",
       "1  20218                    31                         5091   \n",
       "2  34658                    51                         2154   \n",
       "3  33000                     0                        19169   \n",
       "4  24629                  1389                         1084   \n",
       "\n",
       "   tweet_user_followers_count  tweet_user_friends_count    tweet_user_id_str  \\\n",
       "0                         250                       196  1000070228263493633   \n",
       "1                         294                       333  1000075196827566080   \n",
       "2                          65                       128  1000088820652675072   \n",
       "3                         532                       286  1000090083821785088   \n",
       "4                          41                       143  1000128848455847936   \n",
       "\n",
       "   tweet_user_listed_count  tweet_user_statuses_count  \n",
       "0                        1                        870  \n",
       "1                        0                       3260  \n",
       "2                        0                        279  \n",
       "3                        2                       3491  \n",
       "4                        0                       3937  "
      ]
     },
     "execution_count": 23,
     "metadata": {},
     "output_type": "execute_result"
    }
   ],
   "source": [
    "tweet = pd.DataFrame.from_dict(tweet_list)\n",
    "tweet.head()"
   ]
  },
  {
   "cell_type": "code",
   "execution_count": 24,
   "metadata": {},
   "outputs": [
    {
     "data": {
      "text/html": [
       "<div>\n",
       "<style scoped>\n",
       "    .dataframe tbody tr th:only-of-type {\n",
       "        vertical-align: middle;\n",
       "    }\n",
       "\n",
       "    .dataframe tbody tr th {\n",
       "        vertical-align: top;\n",
       "    }\n",
       "\n",
       "    .dataframe thead th {\n",
       "        text-align: right;\n",
       "    }\n",
       "</style>\n",
       "<table border=\"1\" class=\"dataframe\">\n",
       "  <thead>\n",
       "    <tr style=\"text-align: right;\">\n",
       "      <th></th>\n",
       "      <th>id</th>\n",
       "      <th>tweet_retweet_counts</th>\n",
       "      <th>tweet_user_favourites_count</th>\n",
       "      <th>tweet_user_followers_count</th>\n",
       "      <th>tweet_user_friends_count</th>\n",
       "      <th>tweet_user_listed_count</th>\n",
       "      <th>tweet_user_statuses_count</th>\n",
       "    </tr>\n",
       "  </thead>\n",
       "  <tbody>\n",
       "    <tr>\n",
       "      <th>count</th>\n",
       "      <td>32049.000000</td>\n",
       "      <td>32049.000000</td>\n",
       "      <td>3.204900e+04</td>\n",
       "      <td>3.204900e+04</td>\n",
       "      <td>3.204900e+04</td>\n",
       "      <td>32049.000000</td>\n",
       "      <td>3.204900e+04</td>\n",
       "    </tr>\n",
       "    <tr>\n",
       "      <th>mean</th>\n",
       "      <td>19912.455989</td>\n",
       "      <td>1294.090393</td>\n",
       "      <td>1.624379e+04</td>\n",
       "      <td>1.080645e+04</td>\n",
       "      <td>1.575968e+03</td>\n",
       "      <td>95.979188</td>\n",
       "      <td>2.562619e+04</td>\n",
       "    </tr>\n",
       "    <tr>\n",
       "      <th>std</th>\n",
       "      <td>11287.823288</td>\n",
       "      <td>11921.900995</td>\n",
       "      <td>3.745311e+04</td>\n",
       "      <td>3.269520e+05</td>\n",
       "      <td>8.848977e+03</td>\n",
       "      <td>1225.066403</td>\n",
       "      <td>6.977079e+04</td>\n",
       "    </tr>\n",
       "    <tr>\n",
       "      <th>min</th>\n",
       "      <td>1.000000</td>\n",
       "      <td>0.000000</td>\n",
       "      <td>0.000000e+00</td>\n",
       "      <td>0.000000e+00</td>\n",
       "      <td>0.000000e+00</td>\n",
       "      <td>0.000000</td>\n",
       "      <td>1.000000e+00</td>\n",
       "    </tr>\n",
       "    <tr>\n",
       "      <th>25%</th>\n",
       "      <td>10214.000000</td>\n",
       "      <td>0.000000</td>\n",
       "      <td>6.480000e+02</td>\n",
       "      <td>1.200000e+02</td>\n",
       "      <td>1.850000e+02</td>\n",
       "      <td>0.000000</td>\n",
       "      <td>1.357000e+03</td>\n",
       "    </tr>\n",
       "    <tr>\n",
       "      <th>50%</th>\n",
       "      <td>20099.000000</td>\n",
       "      <td>3.000000</td>\n",
       "      <td>3.837000e+03</td>\n",
       "      <td>4.070000e+02</td>\n",
       "      <td>4.720000e+02</td>\n",
       "      <td>4.000000</td>\n",
       "      <td>6.246000e+03</td>\n",
       "    </tr>\n",
       "    <tr>\n",
       "      <th>75%</th>\n",
       "      <td>29682.000000</td>\n",
       "      <td>73.000000</td>\n",
       "      <td>1.496200e+04</td>\n",
       "      <td>1.417000e+03</td>\n",
       "      <td>1.215000e+03</td>\n",
       "      <td>28.000000</td>\n",
       "      <td>2.299000e+04</td>\n",
       "    </tr>\n",
       "    <tr>\n",
       "      <th>max</th>\n",
       "      <td>39031.000000</td>\n",
       "      <td>533302.000000</td>\n",
       "      <td>1.005418e+06</td>\n",
       "      <td>4.186532e+07</td>\n",
       "      <td>1.057259e+06</td>\n",
       "      <td>138404.000000</td>\n",
       "      <td>3.097116e+06</td>\n",
       "    </tr>\n",
       "  </tbody>\n",
       "</table>\n",
       "</div>"
      ],
      "text/plain": [
       "                 id  tweet_retweet_counts  tweet_user_favourites_count  \\\n",
       "count  32049.000000          32049.000000                 3.204900e+04   \n",
       "mean   19912.455989           1294.090393                 1.624379e+04   \n",
       "std    11287.823288          11921.900995                 3.745311e+04   \n",
       "min        1.000000              0.000000                 0.000000e+00   \n",
       "25%    10214.000000              0.000000                 6.480000e+02   \n",
       "50%    20099.000000              3.000000                 3.837000e+03   \n",
       "75%    29682.000000             73.000000                 1.496200e+04   \n",
       "max    39031.000000         533302.000000                 1.005418e+06   \n",
       "\n",
       "       tweet_user_followers_count  tweet_user_friends_count  \\\n",
       "count                3.204900e+04              3.204900e+04   \n",
       "mean                 1.080645e+04              1.575968e+03   \n",
       "std                  3.269520e+05              8.848977e+03   \n",
       "min                  0.000000e+00              0.000000e+00   \n",
       "25%                  1.200000e+02              1.850000e+02   \n",
       "50%                  4.070000e+02              4.720000e+02   \n",
       "75%                  1.417000e+03              1.215000e+03   \n",
       "max                  4.186532e+07              1.057259e+06   \n",
       "\n",
       "       tweet_user_listed_count  tweet_user_statuses_count  \n",
       "count             32049.000000               3.204900e+04  \n",
       "mean                 95.979188               2.562619e+04  \n",
       "std                1225.066403               6.977079e+04  \n",
       "min                   0.000000               1.000000e+00  \n",
       "25%                   0.000000               1.357000e+03  \n",
       "50%                   4.000000               6.246000e+03  \n",
       "75%                  28.000000               2.299000e+04  \n",
       "max              138404.000000               3.097116e+06  "
      ]
     },
     "execution_count": 24,
     "metadata": {},
     "output_type": "execute_result"
    }
   ],
   "source": [
    "tweet.describe()"
   ]
  },
  {
   "cell_type": "code",
   "execution_count": 28,
   "metadata": {},
   "outputs": [],
   "source": [
    "tweet[\"success\"] = np.where(tweet[\"tweet_retweet_counts\"] > 99, 1, 0)"
   ]
  },
  {
   "cell_type": "code",
   "execution_count": 29,
   "metadata": {},
   "outputs": [
    {
     "data": {
      "text/html": [
       "<div>\n",
       "<style scoped>\n",
       "    .dataframe tbody tr th:only-of-type {\n",
       "        vertical-align: middle;\n",
       "    }\n",
       "\n",
       "    .dataframe tbody tr th {\n",
       "        vertical-align: top;\n",
       "    }\n",
       "\n",
       "    .dataframe thead th {\n",
       "        text-align: right;\n",
       "    }\n",
       "</style>\n",
       "<table border=\"1\" class=\"dataframe\">\n",
       "  <thead>\n",
       "    <tr style=\"text-align: right;\">\n",
       "      <th></th>\n",
       "      <th>id</th>\n",
       "      <th>tweet_retweet_counts</th>\n",
       "      <th>tweet_user_favourites_count</th>\n",
       "      <th>tweet_user_followers_count</th>\n",
       "      <th>tweet_user_friends_count</th>\n",
       "      <th>tweet_user_id_str</th>\n",
       "      <th>tweet_user_listed_count</th>\n",
       "      <th>tweet_user_statuses_count</th>\n",
       "      <th>success</th>\n",
       "    </tr>\n",
       "  </thead>\n",
       "  <tbody>\n",
       "    <tr>\n",
       "      <th>0</th>\n",
       "      <td>26060</td>\n",
       "      <td>91</td>\n",
       "      <td>773</td>\n",
       "      <td>250</td>\n",
       "      <td>196</td>\n",
       "      <td>1000070228263493633</td>\n",
       "      <td>1</td>\n",
       "      <td>870</td>\n",
       "      <td>0</td>\n",
       "    </tr>\n",
       "    <tr>\n",
       "      <th>1</th>\n",
       "      <td>20218</td>\n",
       "      <td>31</td>\n",
       "      <td>5091</td>\n",
       "      <td>294</td>\n",
       "      <td>333</td>\n",
       "      <td>1000075196827566080</td>\n",
       "      <td>0</td>\n",
       "      <td>3260</td>\n",
       "      <td>0</td>\n",
       "    </tr>\n",
       "    <tr>\n",
       "      <th>2</th>\n",
       "      <td>34658</td>\n",
       "      <td>51</td>\n",
       "      <td>2154</td>\n",
       "      <td>65</td>\n",
       "      <td>128</td>\n",
       "      <td>1000088820652675072</td>\n",
       "      <td>0</td>\n",
       "      <td>279</td>\n",
       "      <td>0</td>\n",
       "    </tr>\n",
       "    <tr>\n",
       "      <th>3</th>\n",
       "      <td>33000</td>\n",
       "      <td>0</td>\n",
       "      <td>19169</td>\n",
       "      <td>532</td>\n",
       "      <td>286</td>\n",
       "      <td>1000090083821785088</td>\n",
       "      <td>2</td>\n",
       "      <td>3491</td>\n",
       "      <td>0</td>\n",
       "    </tr>\n",
       "    <tr>\n",
       "      <th>4</th>\n",
       "      <td>24629</td>\n",
       "      <td>1389</td>\n",
       "      <td>1084</td>\n",
       "      <td>41</td>\n",
       "      <td>143</td>\n",
       "      <td>1000128848455847936</td>\n",
       "      <td>0</td>\n",
       "      <td>3937</td>\n",
       "      <td>1</td>\n",
       "    </tr>\n",
       "  </tbody>\n",
       "</table>\n",
       "</div>"
      ],
      "text/plain": [
       "      id  tweet_retweet_counts  tweet_user_favourites_count  \\\n",
       "0  26060                    91                          773   \n",
       "1  20218                    31                         5091   \n",
       "2  34658                    51                         2154   \n",
       "3  33000                     0                        19169   \n",
       "4  24629                  1389                         1084   \n",
       "\n",
       "   tweet_user_followers_count  tweet_user_friends_count    tweet_user_id_str  \\\n",
       "0                         250                       196  1000070228263493633   \n",
       "1                         294                       333  1000075196827566080   \n",
       "2                          65                       128  1000088820652675072   \n",
       "3                         532                       286  1000090083821785088   \n",
       "4                          41                       143  1000128848455847936   \n",
       "\n",
       "   tweet_user_listed_count  tweet_user_statuses_count  success  \n",
       "0                        1                        870        0  \n",
       "1                        0                       3260        0  \n",
       "2                        0                        279        0  \n",
       "3                        2                       3491        0  \n",
       "4                        0                       3937        1  "
      ]
     },
     "execution_count": 29,
     "metadata": {},
     "output_type": "execute_result"
    }
   ],
   "source": [
    "tweet.head()"
   ]
  },
  {
   "cell_type": "code",
   "execution_count": 30,
   "metadata": {
    "nbgrader": {
     "grade": false,
     "grade_id": "cell-86a9e3212f200d21",
     "locked": false,
     "schema_version": 1,
     "solution": true
    },
    "slideshow": {
     "slide_type": "subslide"
    }
   },
   "outputs": [
    {
     "name": "stdout",
     "output_type": "stream",
     "text": [
      "(32049, 5) (32049,)\n"
     ]
    }
   ],
   "source": [
    "# Assign X (data) and y (target)\n",
    "X = tweet.drop([\"id\",\"tweet_user_id_str\",\"tweet_retweet_counts\",\"success\"], axis=1)\n",
    "y = tweet[\"success\"]\n",
    "print(X.shape, y.shape)"
   ]
  },
  {
   "cell_type": "markdown",
   "metadata": {
    "slideshow": {
     "slide_type": "subslide"
    }
   },
   "source": [
    "Split our data into training and testing"
   ]
  },
  {
   "cell_type": "code",
   "execution_count": 31,
   "metadata": {
    "nbgrader": {
     "grade": false,
     "grade_id": "cell-711a82d9b32c83ff",
     "locked": false,
     "schema_version": 1,
     "solution": true
    },
    "slideshow": {
     "slide_type": "fragment"
    }
   },
   "outputs": [],
   "source": [
    "from sklearn.model_selection import train_test_split\n",
    "\n",
    "X_train, X_test, y_train, y_test = train_test_split(X, y, random_state=1, stratify=y)"
   ]
  },
  {
   "cell_type": "markdown",
   "metadata": {
    "slideshow": {
     "slide_type": "subslide"
    }
   },
   "source": [
    "Create a Logistic Regression Model"
   ]
  },
  {
   "cell_type": "code",
   "execution_count": 32,
   "metadata": {
    "nbgrader": {
     "grade": false,
     "grade_id": "cell-b83ce1d2dcf17fbd",
     "locked": false,
     "schema_version": 1,
     "solution": true
    },
    "slideshow": {
     "slide_type": "fragment"
    }
   },
   "outputs": [
    {
     "data": {
      "text/plain": [
       "LogisticRegression(C=1.0, class_weight=None, dual=False, fit_intercept=True,\n",
       "          intercept_scaling=1, max_iter=100, multi_class='ovr', n_jobs=1,\n",
       "          penalty='l2', random_state=None, solver='liblinear', tol=0.0001,\n",
       "          verbose=0, warm_start=False)"
      ]
     },
     "execution_count": 32,
     "metadata": {},
     "output_type": "execute_result"
    }
   ],
   "source": [
    "from sklearn.linear_model import LogisticRegression\n",
    "classifier = LogisticRegression()\n",
    "classifier"
   ]
  },
  {
   "cell_type": "markdown",
   "metadata": {
    "slideshow": {
     "slide_type": "subslide"
    }
   },
   "source": [
    "Fit (train) or model using the training data"
   ]
  },
  {
   "cell_type": "code",
   "execution_count": 33,
   "metadata": {
    "nbgrader": {
     "grade": false,
     "grade_id": "cell-fa6356c0ca7e4ead",
     "locked": false,
     "schema_version": 1,
     "solution": true
    },
    "slideshow": {
     "slide_type": "fragment"
    }
   },
   "outputs": [
    {
     "data": {
      "text/plain": [
       "LogisticRegression(C=1.0, class_weight=None, dual=False, fit_intercept=True,\n",
       "          intercept_scaling=1, max_iter=100, multi_class='ovr', n_jobs=1,\n",
       "          penalty='l2', random_state=None, solver='liblinear', tol=0.0001,\n",
       "          verbose=0, warm_start=False)"
      ]
     },
     "execution_count": 33,
     "metadata": {},
     "output_type": "execute_result"
    }
   ],
   "source": [
    "classifier.fit(X_train, y_train)"
   ]
  },
  {
   "cell_type": "markdown",
   "metadata": {
    "slideshow": {
     "slide_type": "subslide"
    }
   },
   "source": [
    "Validate the model using the test data"
   ]
  },
  {
   "cell_type": "code",
   "execution_count": 34,
   "metadata": {
    "nbgrader": {
     "grade": false,
     "grade_id": "cell-b00f331fda900e0a",
     "locked": false,
     "schema_version": 1,
     "solution": true
    },
    "slideshow": {
     "slide_type": "fragment"
    }
   },
   "outputs": [
    {
     "name": "stdout",
     "output_type": "stream",
     "text": [
      "Training Data Score: 0.7661008487269096\n",
      "Testing Data Score: 0.7675028079371022\n"
     ]
    }
   ],
   "source": [
    "print(f\"Training Data Score: {classifier.score(X_train, y_train)}\")\n",
    "print(f\"Testing Data Score: {classifier.score(X_test, y_test)}\")"
   ]
  },
  {
   "cell_type": "markdown",
   "metadata": {
    "slideshow": {
     "slide_type": "subslide"
    }
   },
   "source": [
    "Make predictions"
   ]
  },
  {
   "cell_type": "code",
   "execution_count": 35,
   "metadata": {
    "nbgrader": {
     "grade": false,
     "grade_id": "cell-f97eb3e97245187b",
     "locked": false,
     "schema_version": 1,
     "solution": true
    },
    "slideshow": {
     "slide_type": "fragment"
    }
   },
   "outputs": [
    {
     "name": "stdout",
     "output_type": "stream",
     "text": [
      "First 10 Predictions:   [0 0 0 0 0 0 0 0 0 0]\n",
      "First 10 Actual labels: [0, 0, 1, 0, 0, 0, 0, 0, 0, 0]\n"
     ]
    }
   ],
   "source": [
    "predictions = classifier.predict(X_test)\n",
    "print(f\"First 10 Predictions:   {predictions[:10]}\")\n",
    "print(f\"First 10 Actual labels: {y_test[:10].tolist()}\")"
   ]
  },
  {
   "cell_type": "code",
   "execution_count": 19,
   "metadata": {},
   "outputs": [
    {
     "data": {
      "text/html": [
       "<div>\n",
       "<style scoped>\n",
       "    .dataframe tbody tr th:only-of-type {\n",
       "        vertical-align: middle;\n",
       "    }\n",
       "\n",
       "    .dataframe tbody tr th {\n",
       "        vertical-align: top;\n",
       "    }\n",
       "\n",
       "    .dataframe thead th {\n",
       "        text-align: right;\n",
       "    }\n",
       "</style>\n",
       "<table border=\"1\" class=\"dataframe\">\n",
       "  <thead>\n",
       "    <tr style=\"text-align: right;\">\n",
       "      <th></th>\n",
       "      <th>Prediction</th>\n",
       "      <th>Actual</th>\n",
       "    </tr>\n",
       "  </thead>\n",
       "  <tbody>\n",
       "    <tr>\n",
       "      <th>0</th>\n",
       "      <td>0</td>\n",
       "      <td>0</td>\n",
       "    </tr>\n",
       "    <tr>\n",
       "      <th>1</th>\n",
       "      <td>0</td>\n",
       "      <td>1</td>\n",
       "    </tr>\n",
       "    <tr>\n",
       "      <th>2</th>\n",
       "      <td>0</td>\n",
       "      <td>1</td>\n",
       "    </tr>\n",
       "    <tr>\n",
       "      <th>3</th>\n",
       "      <td>0</td>\n",
       "      <td>0</td>\n",
       "    </tr>\n",
       "    <tr>\n",
       "      <th>4</th>\n",
       "      <td>0</td>\n",
       "      <td>0</td>\n",
       "    </tr>\n",
       "    <tr>\n",
       "      <th>5</th>\n",
       "      <td>0</td>\n",
       "      <td>0</td>\n",
       "    </tr>\n",
       "    <tr>\n",
       "      <th>6</th>\n",
       "      <td>0</td>\n",
       "      <td>0</td>\n",
       "    </tr>\n",
       "    <tr>\n",
       "      <th>7</th>\n",
       "      <td>0</td>\n",
       "      <td>0</td>\n",
       "    </tr>\n",
       "    <tr>\n",
       "      <th>8</th>\n",
       "      <td>0</td>\n",
       "      <td>0</td>\n",
       "    </tr>\n",
       "    <tr>\n",
       "      <th>9</th>\n",
       "      <td>0</td>\n",
       "      <td>0</td>\n",
       "    </tr>\n",
       "    <tr>\n",
       "      <th>10</th>\n",
       "      <td>0</td>\n",
       "      <td>0</td>\n",
       "    </tr>\n",
       "    <tr>\n",
       "      <th>11</th>\n",
       "      <td>0</td>\n",
       "      <td>0</td>\n",
       "    </tr>\n",
       "    <tr>\n",
       "      <th>12</th>\n",
       "      <td>0</td>\n",
       "      <td>0</td>\n",
       "    </tr>\n",
       "    <tr>\n",
       "      <th>13</th>\n",
       "      <td>0</td>\n",
       "      <td>1</td>\n",
       "    </tr>\n",
       "    <tr>\n",
       "      <th>14</th>\n",
       "      <td>0</td>\n",
       "      <td>0</td>\n",
       "    </tr>\n",
       "    <tr>\n",
       "      <th>15</th>\n",
       "      <td>0</td>\n",
       "      <td>0</td>\n",
       "    </tr>\n",
       "    <tr>\n",
       "      <th>16</th>\n",
       "      <td>0</td>\n",
       "      <td>1</td>\n",
       "    </tr>\n",
       "    <tr>\n",
       "      <th>17</th>\n",
       "      <td>0</td>\n",
       "      <td>0</td>\n",
       "    </tr>\n",
       "    <tr>\n",
       "      <th>18</th>\n",
       "      <td>0</td>\n",
       "      <td>1</td>\n",
       "    </tr>\n",
       "    <tr>\n",
       "      <th>19</th>\n",
       "      <td>0</td>\n",
       "      <td>0</td>\n",
       "    </tr>\n",
       "    <tr>\n",
       "      <th>20</th>\n",
       "      <td>0</td>\n",
       "      <td>1</td>\n",
       "    </tr>\n",
       "    <tr>\n",
       "      <th>21</th>\n",
       "      <td>0</td>\n",
       "      <td>0</td>\n",
       "    </tr>\n",
       "    <tr>\n",
       "      <th>22</th>\n",
       "      <td>0</td>\n",
       "      <td>1</td>\n",
       "    </tr>\n",
       "    <tr>\n",
       "      <th>23</th>\n",
       "      <td>0</td>\n",
       "      <td>1</td>\n",
       "    </tr>\n",
       "    <tr>\n",
       "      <th>24</th>\n",
       "      <td>0</td>\n",
       "      <td>0</td>\n",
       "    </tr>\n",
       "    <tr>\n",
       "      <th>25</th>\n",
       "      <td>0</td>\n",
       "      <td>0</td>\n",
       "    </tr>\n",
       "    <tr>\n",
       "      <th>26</th>\n",
       "      <td>0</td>\n",
       "      <td>0</td>\n",
       "    </tr>\n",
       "    <tr>\n",
       "      <th>27</th>\n",
       "      <td>0</td>\n",
       "      <td>0</td>\n",
       "    </tr>\n",
       "    <tr>\n",
       "      <th>28</th>\n",
       "      <td>0</td>\n",
       "      <td>0</td>\n",
       "    </tr>\n",
       "    <tr>\n",
       "      <th>29</th>\n",
       "      <td>0</td>\n",
       "      <td>0</td>\n",
       "    </tr>\n",
       "    <tr>\n",
       "      <th>...</th>\n",
       "      <td>...</td>\n",
       "      <td>...</td>\n",
       "    </tr>\n",
       "    <tr>\n",
       "      <th>54</th>\n",
       "      <td>0</td>\n",
       "      <td>0</td>\n",
       "    </tr>\n",
       "    <tr>\n",
       "      <th>55</th>\n",
       "      <td>0</td>\n",
       "      <td>0</td>\n",
       "    </tr>\n",
       "    <tr>\n",
       "      <th>56</th>\n",
       "      <td>1</td>\n",
       "      <td>0</td>\n",
       "    </tr>\n",
       "    <tr>\n",
       "      <th>57</th>\n",
       "      <td>0</td>\n",
       "      <td>0</td>\n",
       "    </tr>\n",
       "    <tr>\n",
       "      <th>58</th>\n",
       "      <td>1</td>\n",
       "      <td>1</td>\n",
       "    </tr>\n",
       "    <tr>\n",
       "      <th>59</th>\n",
       "      <td>0</td>\n",
       "      <td>0</td>\n",
       "    </tr>\n",
       "    <tr>\n",
       "      <th>60</th>\n",
       "      <td>0</td>\n",
       "      <td>0</td>\n",
       "    </tr>\n",
       "    <tr>\n",
       "      <th>61</th>\n",
       "      <td>0</td>\n",
       "      <td>0</td>\n",
       "    </tr>\n",
       "    <tr>\n",
       "      <th>62</th>\n",
       "      <td>0</td>\n",
       "      <td>1</td>\n",
       "    </tr>\n",
       "    <tr>\n",
       "      <th>63</th>\n",
       "      <td>1</td>\n",
       "      <td>0</td>\n",
       "    </tr>\n",
       "    <tr>\n",
       "      <th>64</th>\n",
       "      <td>0</td>\n",
       "      <td>0</td>\n",
       "    </tr>\n",
       "    <tr>\n",
       "      <th>65</th>\n",
       "      <td>1</td>\n",
       "      <td>0</td>\n",
       "    </tr>\n",
       "    <tr>\n",
       "      <th>66</th>\n",
       "      <td>0</td>\n",
       "      <td>0</td>\n",
       "    </tr>\n",
       "    <tr>\n",
       "      <th>67</th>\n",
       "      <td>0</td>\n",
       "      <td>0</td>\n",
       "    </tr>\n",
       "    <tr>\n",
       "      <th>68</th>\n",
       "      <td>0</td>\n",
       "      <td>0</td>\n",
       "    </tr>\n",
       "    <tr>\n",
       "      <th>69</th>\n",
       "      <td>1</td>\n",
       "      <td>0</td>\n",
       "    </tr>\n",
       "    <tr>\n",
       "      <th>70</th>\n",
       "      <td>0</td>\n",
       "      <td>0</td>\n",
       "    </tr>\n",
       "    <tr>\n",
       "      <th>71</th>\n",
       "      <td>0</td>\n",
       "      <td>1</td>\n",
       "    </tr>\n",
       "    <tr>\n",
       "      <th>72</th>\n",
       "      <td>0</td>\n",
       "      <td>1</td>\n",
       "    </tr>\n",
       "    <tr>\n",
       "      <th>73</th>\n",
       "      <td>0</td>\n",
       "      <td>0</td>\n",
       "    </tr>\n",
       "    <tr>\n",
       "      <th>74</th>\n",
       "      <td>0</td>\n",
       "      <td>0</td>\n",
       "    </tr>\n",
       "    <tr>\n",
       "      <th>75</th>\n",
       "      <td>1</td>\n",
       "      <td>1</td>\n",
       "    </tr>\n",
       "    <tr>\n",
       "      <th>76</th>\n",
       "      <td>0</td>\n",
       "      <td>0</td>\n",
       "    </tr>\n",
       "    <tr>\n",
       "      <th>77</th>\n",
       "      <td>1</td>\n",
       "      <td>0</td>\n",
       "    </tr>\n",
       "    <tr>\n",
       "      <th>78</th>\n",
       "      <td>0</td>\n",
       "      <td>0</td>\n",
       "    </tr>\n",
       "    <tr>\n",
       "      <th>79</th>\n",
       "      <td>0</td>\n",
       "      <td>0</td>\n",
       "    </tr>\n",
       "    <tr>\n",
       "      <th>80</th>\n",
       "      <td>0</td>\n",
       "      <td>0</td>\n",
       "    </tr>\n",
       "    <tr>\n",
       "      <th>81</th>\n",
       "      <td>0</td>\n",
       "      <td>1</td>\n",
       "    </tr>\n",
       "    <tr>\n",
       "      <th>82</th>\n",
       "      <td>0</td>\n",
       "      <td>0</td>\n",
       "    </tr>\n",
       "    <tr>\n",
       "      <th>83</th>\n",
       "      <td>0</td>\n",
       "      <td>0</td>\n",
       "    </tr>\n",
       "  </tbody>\n",
       "</table>\n",
       "<p>84 rows × 2 columns</p>\n",
       "</div>"
      ],
      "text/plain": [
       "    Prediction  Actual\n",
       "0            0       0\n",
       "1            0       1\n",
       "2            0       1\n",
       "3            0       0\n",
       "4            0       0\n",
       "5            0       0\n",
       "6            0       0\n",
       "7            0       0\n",
       "8            0       0\n",
       "9            0       0\n",
       "10           0       0\n",
       "11           0       0\n",
       "12           0       0\n",
       "13           0       1\n",
       "14           0       0\n",
       "15           0       0\n",
       "16           0       1\n",
       "17           0       0\n",
       "18           0       1\n",
       "19           0       0\n",
       "20           0       1\n",
       "21           0       0\n",
       "22           0       1\n",
       "23           0       1\n",
       "24           0       0\n",
       "25           0       0\n",
       "26           0       0\n",
       "27           0       0\n",
       "28           0       0\n",
       "29           0       0\n",
       "..         ...     ...\n",
       "54           0       0\n",
       "55           0       0\n",
       "56           1       0\n",
       "57           0       0\n",
       "58           1       1\n",
       "59           0       0\n",
       "60           0       0\n",
       "61           0       0\n",
       "62           0       1\n",
       "63           1       0\n",
       "64           0       0\n",
       "65           1       0\n",
       "66           0       0\n",
       "67           0       0\n",
       "68           0       0\n",
       "69           1       0\n",
       "70           0       0\n",
       "71           0       1\n",
       "72           0       1\n",
       "73           0       0\n",
       "74           0       0\n",
       "75           1       1\n",
       "76           0       0\n",
       "77           1       0\n",
       "78           0       0\n",
       "79           0       0\n",
       "80           0       0\n",
       "81           0       1\n",
       "82           0       0\n",
       "83           0       0\n",
       "\n",
       "[84 rows x 2 columns]"
      ]
     },
     "execution_count": 19,
     "metadata": {},
     "output_type": "execute_result"
    }
   ],
   "source": [
    "pd.DataFrame({\"Prediction\": predictions, \"Actual\": y_test}).reset_index(drop=True)"
   ]
  },
  {
   "cell_type": "code",
   "execution_count": 36,
   "metadata": {},
   "outputs": [
    {
     "data": {
      "text/plain": [
       "array([[6121,   25],\n",
       "       [1838,   29]], dtype=int64)"
      ]
     },
     "execution_count": 36,
     "metadata": {},
     "output_type": "execute_result"
    }
   ],
   "source": [
    "confusion_matrix(y_test, predictions)"
   ]
  },
  {
   "cell_type": "code",
   "execution_count": 37,
   "metadata": {},
   "outputs": [
    {
     "name": "stdout",
     "output_type": "stream",
     "text": [
      "tn: 6121   fp:  25\n",
      "fn: 1838   tp:  29\n"
     ]
    }
   ],
   "source": [
    "tn, fp, fn, tp = confusion_matrix(y_test, predictions).ravel()\n",
    "print(f\"tn: {tn:3d}   fp: {fp:3d}\")\n",
    "print(f\"fn: {fn:3d}   tp: {tp:3d}\")"
   ]
  },
  {
   "cell_type": "code",
   "execution_count": 39,
   "metadata": {},
   "outputs": [
    {
     "data": {
      "text/plain": [
       "['influencer.model']"
      ]
     },
     "execution_count": 39,
     "metadata": {},
     "output_type": "execute_result"
    }
   ],
   "source": [
    "from joblib import dump, load\n",
    "dump(classifier, 'influencer.model') \n"
   ]
  },
  {
   "cell_type": "code",
   "execution_count": null,
   "metadata": {},
   "outputs": [],
   "source": []
  }
 ],
 "metadata": {
  "kernelspec": {
   "display_name": "Python 3",
   "language": "python",
   "name": "python3"
  },
  "language_info": {
   "codemirror_mode": {
    "name": "ipython",
    "version": 3
   },
   "file_extension": ".py",
   "mimetype": "text/x-python",
   "name": "python",
   "nbconvert_exporter": "python",
   "pygments_lexer": "ipython3",
   "version": "3.7.0"
  },
  "varInspector": {
   "cols": {
    "lenName": 16,
    "lenType": 16,
    "lenVar": 40
   },
   "kernels_config": {
    "python": {
     "delete_cmd_postfix": "",
     "delete_cmd_prefix": "del ",
     "library": "var_list.py",
     "varRefreshCmd": "print(var_dic_list())"
    },
    "r": {
     "delete_cmd_postfix": ") ",
     "delete_cmd_prefix": "rm(",
     "library": "var_list.r",
     "varRefreshCmd": "cat(var_dic_list()) "
    }
   },
   "types_to_exclude": [
    "module",
    "function",
    "builtin_function_or_method",
    "instance",
    "_Feature"
   ],
   "window_display": false
  }
 },
 "nbformat": 4,
 "nbformat_minor": 2
}
