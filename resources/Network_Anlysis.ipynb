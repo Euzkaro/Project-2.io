{
 "cells": [
  {
   "cell_type": "code",
   "execution_count": 17,
   "metadata": {},
   "outputs": [
    {
     "name": "stdout",
     "output_type": "stream",
     "text": [
      ".....................................................\n",
      "Network of Hashtag\n",
      "\n",
      "Enter Keyword/Hashtag to search about: Biden\n",
      "Number of tweets to analyze: 200\n"
     ]
    },
    {
     "ename": "TypeError",
     "evalue": "'ItemIterator' object is not subscriptable",
     "output_type": "error",
     "traceback": [
      "\u001b[0;31m---------------------------------------------------------------------------\u001b[0m",
      "\u001b[0;31mTypeError\u001b[0m                                 Traceback (most recent call last)",
      "\u001b[0;32m<ipython-input-17-ed0249929d52>\u001b[0m in \u001b[0;36m<module>\u001b[0;34m\u001b[0m\n\u001b[1;32m     46\u001b[0m \u001b[0;34m\u001b[0m\u001b[0m\n\u001b[1;32m     47\u001b[0m \u001b[0;31m# Get results and find retweets and mentions\u001b[0m\u001b[0;34m\u001b[0m\u001b[0;34m\u001b[0m\u001b[0;34m\u001b[0m\u001b[0m\n\u001b[0;32m---> 48\u001b[0;31m \u001b[0;32mfor\u001b[0m \u001b[0mresult\u001b[0m \u001b[0;32min\u001b[0m \u001b[0mquery\u001b[0m\u001b[0;34m[\u001b[0m\u001b[0;34m\"statuses\"\u001b[0m\u001b[0;34m]\u001b[0m\u001b[0;34m:\u001b[0m\u001b[0;34m\u001b[0m\u001b[0;34m\u001b[0m\u001b[0m\n\u001b[0m\u001b[1;32m     49\u001b[0m     \u001b[0;31m#print (\"\")\u001b[0m\u001b[0;34m\u001b[0m\u001b[0;34m\u001b[0m\u001b[0;34m\u001b[0m\u001b[0m\n\u001b[1;32m     50\u001b[0m     \u001b[0mprint\u001b[0m \u001b[0;34m(\u001b[0m\u001b[0;34m\"Tweet:\"\u001b[0m\u001b[0;34m,\u001b[0m \u001b[0mresult\u001b[0m\u001b[0;34m[\u001b[0m\u001b[0;34m\"text\"\u001b[0m\u001b[0;34m]\u001b[0m\u001b[0;34m)\u001b[0m\u001b[0;34m\u001b[0m\u001b[0;34m\u001b[0m\u001b[0m\n",
      "\u001b[0;31mTypeError\u001b[0m: 'ItemIterator' object is not subscriptable"
     ]
    }
   ],
   "source": [
    "import twitter\n",
    "import tweepy\n",
    "import networkx as nx\n",
    "import json\n",
    "import os\n",
    "\n",
    "# Clear screen\n",
    "os.system('cls' if os.name=='nt' else 'clear')\n",
    "\n",
    "graph=nx.DiGraph()\n",
    "\n",
    "print (\".....................................................\")\n",
    "print (\"Network of Hashtag\")\n",
    "print (\"\")\n",
    "\n",
    "#hashtag = input(\"Enter the hashtag you want to anlyze: \")\n",
    "\n",
    "# Log in\n",
    "CONSUMER_KEY = 't6gxzqwZTX6S3BnXYM3YGqriA'\n",
    "CONSUMER_SECRET = '6ByaQVf9ljEQHWwrfQbkyG674dhu0TQeJh8VrGqzrrBLaDZc94'\n",
    "OAUTH_TOKEN = '1031172880300687361-XsNI26GX8GngiUGw3ord7vQtKdcoPk'\n",
    "OAUTH_TOKEN_SECRET = 'VnThCcjLUmqWE3UIxb62XbgIDO7oIU24CEaVheiuPoSYw'\n",
    "\n",
    "auth = tweepy.OAuthHandler(CONSUMER_KEY, CONSUMER_SECRET)\n",
    "auth.set_access_token(OAUTH_TOKEN, OAUTH_TOKEN_SECRET)\n",
    "\n",
    "api = tweepy.API(auth)\n",
    "\n",
    "\n",
    "# search\n",
    "searchTerm = input(\"Enter Keyword/Hashtag to search about: \")\n",
    "NoOfTerms = int(input(\"Number of tweets to analyze: \"))\n",
    "\n",
    "        # searching for tweets\n",
    "query = tweepy.Cursor(api.search, q=searchTerm, lang = \"en\").items(NoOfTerms)\n",
    "\n",
    "# https://dev.twitter.com/docs/api/1.1/get/search/tweets\n",
    "#search_results = api.search.tweets(q=hashtag, count=100)\n",
    "\n",
    "# Debug line\n",
    "#print json.dumps(query, sort_keys=True, indent=4)\n",
    "\n",
    "# Print results\n",
    "#print (\"Search complete (%f seconds)\" % (query[\"search_metadata\"][\"completed_in\"]))\n",
    "#print (\"Found\",len(query[\"statuses\"]),\"results.\")\n",
    "\n",
    "# Get results and find retweets and mentions\n",
    "for result in query[\"statuses\"]:\n",
    "    #print (\"\")\n",
    "    print (\"Tweet:\", result[\"text\"])\n",
    "    print (\"By user:\", result[\"user\"][\"name\"])\n",
    "    if len(result[\"entities\"][\"user_mentions\"]) != 0:\n",
    "        print (\"Mentions:\")\n",
    "        for i in result[\"entities\"][\"user_mentions\"]:\n",
    "            print (\" - by\",i[\"screen_name\"])\n",
    "            graph.add_edge(i[\"screen_name\"],result[\"user\"][\"name\"])\n",
    "    if \"retweeted_status\" in result:\n",
    "        if len(result[\"retweeted_status\"][\"entities\"][\"user_mentions\"]) != 0:\n",
    "            print (\"Retweets:\")\n",
    "            for i in result[\"retweeted_status\"][\"entities\"][\"user_mentions\"]:\n",
    "                print (\" - by\",i[\"screen_name\"])\n",
    "                graph.add_edge(i[\"screen_name\"],result[\"user\"][\"name\"])\n",
    "    else:\n",
    "        pass\n",
    "\n",
    "# Save graph\n",
    "print (\"\")\n",
    "print (\"The network of the hashtag was analyzed succesfully!\")\n",
    "print (\"\")\n",
    "#print (\"Saving the file as \"+hashtag+\"-rt-network.gexf...\")\n",
    "nx.write_gexf(graph, hashtag+\"-rt-network.gexf\")"
   ]
  },
  {
   "cell_type": "code",
   "execution_count": null,
   "metadata": {},
   "outputs": [],
   "source": []
  },
  {
   "cell_type": "code",
   "execution_count": null,
   "metadata": {},
   "outputs": [],
   "source": []
  }
 ],
 "metadata": {
  "kernelspec": {
   "display_name": "Python 3",
   "language": "python",
   "name": "python3"
  },
  "language_info": {
   "codemirror_mode": {
    "name": "ipython",
    "version": 3
   },
   "file_extension": ".py",
   "mimetype": "text/x-python",
   "name": "python",
   "nbconvert_exporter": "python",
   "pygments_lexer": "ipython3",
   "version": "3.7.1"
  }
 },
 "nbformat": 4,
 "nbformat_minor": 2
}
